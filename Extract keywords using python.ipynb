{
 "cells": [
  {
   "cell_type": "code",
   "execution_count": 1,
   "id": "37278f31",
   "metadata": {},
   "outputs": [
    {
     "data": {
      "text/plain": [
       "'/Users/surajpawar/Desktop/Extract keywords using python'"
      ]
     },
     "execution_count": 1,
     "metadata": {},
     "output_type": "execute_result"
    }
   ],
   "source": [
    "pwd"
   ]
  },
  {
   "cell_type": "code",
   "execution_count": 2,
   "id": "07657917",
   "metadata": {},
   "outputs": [
    {
     "name": "stdout",
     "output_type": "stream",
     "text": [
      "Collecting rake-nltk\n",
      "  Downloading rake_nltk-1.0.6-py3-none-any.whl (9.1 kB)\n",
      "Requirement already satisfied: nltk<4.0.0,>=3.6.2 in /Users/surajpawar/Desktop/anaconda3/lib/python3.10/site-packages (from rake-nltk) (3.7)\n",
      "Requirement already satisfied: tqdm in /Users/surajpawar/Desktop/anaconda3/lib/python3.10/site-packages (from nltk<4.0.0,>=3.6.2->rake-nltk) (4.64.1)\n",
      "Requirement already satisfied: regex>=2021.8.3 in /Users/surajpawar/Desktop/anaconda3/lib/python3.10/site-packages (from nltk<4.0.0,>=3.6.2->rake-nltk) (2022.7.9)\n",
      "Requirement already satisfied: click in /Users/surajpawar/Desktop/anaconda3/lib/python3.10/site-packages (from nltk<4.0.0,>=3.6.2->rake-nltk) (8.0.4)\n",
      "Requirement already satisfied: joblib in /Users/surajpawar/Desktop/anaconda3/lib/python3.10/site-packages (from nltk<4.0.0,>=3.6.2->rake-nltk) (1.3.2)\n",
      "Installing collected packages: rake-nltk\n",
      "Successfully installed rake-nltk-1.0.6\n",
      "Note: you may need to restart the kernel to use updated packages.\n"
     ]
    }
   ],
   "source": [
    "pip install rake-nltk"
   ]
  },
  {
   "cell_type": "code",
   "execution_count": 3,
   "id": "61f15d02",
   "metadata": {},
   "outputs": [],
   "source": [
    "from rake_nltk import Rake\n",
    "rake_nltk_var = Rake()"
   ]
  },
  {
   "cell_type": "code",
   "execution_count": 4,
   "id": "85ee968f",
   "metadata": {},
   "outputs": [],
   "source": [
    "text = \"\"\"I am machine learning engineer and artificial intelligence developer. I am known for using programming languages, data analytics skills and intellectual ability to solve the real world problems\"\"\""
   ]
  },
  {
   "cell_type": "code",
   "execution_count": 5,
   "id": "b6cd91c1",
   "metadata": {},
   "outputs": [],
   "source": [
    "rake_nltk_var.extract_keywords_from_text(text)\n",
    "keyword_extracted = rake_nltk_var.get_ranked_phrases()"
   ]
  },
  {
   "cell_type": "code",
   "execution_count": 6,
   "id": "5f4ecf53",
   "metadata": {},
   "outputs": [
    {
     "name": "stdout",
     "output_type": "stream",
     "text": [
      "['using programming languages', 'real world problems', 'machine learning engineer', 'data analytics skills', 'artificial intelligence developer', 'intellectual ability', 'solve', 'known']\n"
     ]
    }
   ],
   "source": [
    "print(keyword_extracted)"
   ]
  },
  {
   "cell_type": "code",
   "execution_count": null,
   "id": "1b3118cc",
   "metadata": {},
   "outputs": [],
   "source": []
  }
 ],
 "metadata": {
  "kernelspec": {
   "display_name": "Python 3 (ipykernel)",
   "language": "python",
   "name": "python3"
  },
  "language_info": {
   "codemirror_mode": {
    "name": "ipython",
    "version": 3
   },
   "file_extension": ".py",
   "mimetype": "text/x-python",
   "name": "python",
   "nbconvert_exporter": "python",
   "pygments_lexer": "ipython3",
   "version": "3.10.9"
  }
 },
 "nbformat": 4,
 "nbformat_minor": 5
}
